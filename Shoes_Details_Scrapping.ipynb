{
 "cells": [
  {
   "cell_type": "markdown",
   "metadata": {},
   "source": [
    "# MATCHES FASHION DATA SCRAPPING"
   ]
  },
  {
   "cell_type": "markdown",
   "metadata": {},
   "source": [
    "### This website block the direct scrapping. \n",
    "### So we have to do scrapping with another method or tool."
   ]
  },
  {
   "cell_type": "markdown",
   "metadata": {},
   "source": [
    "<!--Empty Space for separating topics-->"
   ]
  },
  {
   "cell_type": "markdown",
   "metadata": {},
   "source": [
    "# Finally Working With Selenium"
   ]
  },
  {
   "cell_type": "markdown",
   "metadata": {},
   "source": [
    "<!--Empty Space for separating topics-->"
   ]
  },
  {
   "cell_type": "code",
   "execution_count": 1,
   "metadata": {},
   "outputs": [],
   "source": [
    "import requests   # This library is used to request to request for the data from a url \n",
    "import io\n",
    "from bs4 import BeautifulSoup\n",
    "import selenium\n",
    "\n",
    "from selenium import webdriver    #used to access the webdriver"
   ]
  },
  {
   "cell_type": "code",
   "execution_count": 2,
   "metadata": {},
   "outputs": [],
   "source": [
    "browser = webdriver.Chrome()   #Used to access the Chromedriver.exe which is present in this folder\n",
    "\n",
    "#browser.get('https://www.matchesfashion.com/intl/mens/shop/shoes')\n",
    "\n",
    "browser.get('https://www.matchesfashion.com/intl/mens/shop/shoes?page=1&noOfRecordsPerPage=240&sort=')\n",
    "html=browser.page_source"
   ]
  },
  {
   "cell_type": "code",
   "execution_count": 3,
   "metadata": {},
   "outputs": [],
   "source": [
    "bg=BeautifulSoup(html,'lxml')"
   ]
  },
  {
   "cell_type": "code",
   "execution_count": 4,
   "metadata": {},
   "outputs": [],
   "source": [
    "# Shows the whole page here.\n",
    "# bg"
   ]
  },
  {
   "cell_type": "code",
   "execution_count": 5,
   "metadata": {},
   "outputs": [],
   "source": [
    "All_Item_Info = bg.find_all(class_='productMainLink')"
   ]
  },
  {
   "cell_type": "code",
   "execution_count": 6,
   "metadata": {},
   "outputs": [],
   "source": [
    "# Here we can see the whole data of the html page in HTML Format.\n",
    "#All_Item_Info"
   ]
  },
  {
   "cell_type": "code",
   "execution_count": 7,
   "metadata": {},
   "outputs": [
    {
     "data": {
      "text/plain": [
       "240"
      ]
     },
     "execution_count": 7,
     "metadata": {},
     "output_type": "execute_result"
    }
   ],
   "source": [
    "len(All_Item_Info)\n",
    "# 240 means this page contains 240 products."
   ]
  },
  {
   "cell_type": "code",
   "execution_count": 8,
   "metadata": {},
   "outputs": [
    {
     "data": {
      "text/plain": [
       "<a class=\"productMainLink\" href=\"/intl/products/Valentino-Garavani-Rockrunner-Plus-camouflage-print-mesh-trainers-1368909\" title=\"Rockrunner Plus camouflage-print mesh trainers\">\n",
       "<div class=\"lister__item__title\">Valentino Garavani</div>\n",
       "<div class=\"lister__item__details\">Rockrunner Plus camouflage-print mesh trainers</div>\n",
       "<div class=\"lister__item__price\">\n",
       "<span class=\"lister__item__price-full\">€650</span>\n",
       "</div>\n",
       "</a>"
      ]
     },
     "execution_count": 8,
     "metadata": {},
     "output_type": "execute_result"
    }
   ],
   "source": [
    "# Accessing the information of 1st product.\n",
    "All_Item_Info[0]"
   ]
  },
  {
   "cell_type": "markdown",
   "metadata": {},
   "source": [
    "## Required Information we have to scrape from the above page\n",
    "#### 1. Name \n",
    "#### 2. Brand\n",
    "#### 3. Price \n",
    "#### 4. Product URL\n",
    "#### 5. Image URL\n",
    "\n",
    "#### We Extract the Image URL Later, firstly we scrappe Name, Brand, Price, Product URL"
   ]
  },
  {
   "cell_type": "markdown",
   "metadata": {},
   "source": [
    "<!--Empty Space for separating topics-->"
   ]
  },
  {
   "cell_type": "markdown",
   "metadata": {},
   "source": [
    "#### Extracting the required info of 1st product."
   ]
  },
  {
   "cell_type": "code",
   "execution_count": 9,
   "metadata": {},
   "outputs": [
    {
     "data": {
      "text/plain": [
       "'Valentino Garavani'"
      ]
     },
     "execution_count": 9,
     "metadata": {},
     "output_type": "execute_result"
    }
   ],
   "source": [
    "# 1.Brand\n",
    "All_Item_Info[0].find(class_='lister__item__title' ).text"
   ]
  },
  {
   "cell_type": "code",
   "execution_count": 10,
   "metadata": {},
   "outputs": [
    {
     "data": {
      "text/plain": [
       "'Rockrunner Plus camouflage-print mesh trainers'"
      ]
     },
     "execution_count": 10,
     "metadata": {},
     "output_type": "execute_result"
    }
   ],
   "source": [
    "# 2.Name\n",
    "All_Item_Info[0].find(class_='lister__item__details' ).text"
   ]
  },
  {
   "cell_type": "code",
   "execution_count": 11,
   "metadata": {},
   "outputs": [
    {
     "data": {
      "text/plain": [
       "'€650'"
      ]
     },
     "execution_count": 11,
     "metadata": {},
     "output_type": "execute_result"
    }
   ],
   "source": [
    "# 3.Price\n",
    "All_Item_Info[0].find(class_='lister__item__price-full' ).text"
   ]
  },
  {
   "cell_type": "code",
   "execution_count": 12,
   "metadata": {},
   "outputs": [
    {
     "name": "stdout",
     "output_type": "stream",
     "text": [
      "Complete_Product_URL->  https://www.matchesfashion.com/intl/products/Valentino-Garavani-Rockrunner-Plus-camouflage-print-mesh-trainers-1368909\n"
     ]
    }
   ],
   "source": [
    "# 4.Product URL\n",
    "\n",
    "# Extracting the Partial Product URL Available in it.\n",
    "Partial_Product_URL = All_Item_Info[0]['href']\n",
    "#print(\"Partial Product URL-> \",Partial_Product_URL)\n",
    "\n",
    "# Now forming the complete URL of the Product\n",
    "Complete_Product_URL = 'https://www.matchesfashion.com'+Partial_Product_URL\n",
    "\n",
    "print(\"Complete_Product_URL-> \",Complete_Product_URL)"
   ]
  },
  {
   "cell_type": "code",
   "execution_count": 13,
   "metadata": {},
   "outputs": [
    {
     "name": "stdout",
     "output_type": "stream",
     "text": [
      "Complete Image URL->  https://assetsprx.matchesfashion.com/img/product/1368909_1_large.jpg\n"
     ]
    }
   ],
   "source": [
    "# 5.Image URL\n",
    "Img_URL_Block = bg.find_all(class_='lister__item__image productView')\n",
    "\n",
    "# Extracting the Partial Image URL Available in it.\n",
    "Partial_Image_URL = Img_URL_Block[0].find('img').get('data-original')\n",
    "#print(\"Partial Image URL-> \",Partial_Image_URL)\n",
    "\n",
    "# Complete Image URL\n",
    "Complete_Image_URL = 'https:'+Partial_Image_URL\n",
    "\n",
    "print(\"Complete Image URL-> \",Complete_Image_URL)"
   ]
  },
  {
   "cell_type": "markdown",
   "metadata": {},
   "source": [
    "<!--Empty Space for separating topics-->"
   ]
  },
  {
   "cell_type": "markdown",
   "metadata": {},
   "source": [
    "### Now we scrape all the products info present on 1st page."
   ]
  },
  {
   "cell_type": "code",
   "execution_count": 14,
   "metadata": {},
   "outputs": [
    {
     "data": {
      "text/plain": [
       "240"
      ]
     },
     "execution_count": 14,
     "metadata": {},
     "output_type": "execute_result"
    }
   ],
   "source": [
    "len(All_Item_Info)  # It contains 240 proucts details."
   ]
  },
  {
   "cell_type": "code",
   "execution_count": 15,
   "metadata": {},
   "outputs": [
    {
     "data": {
      "text/plain": [
       "240"
      ]
     },
     "execution_count": 15,
     "metadata": {},
     "output_type": "execute_result"
    }
   ],
   "source": [
    "len(Img_URL_Block)"
   ]
  },
  {
   "cell_type": "code",
   "execution_count": 16,
   "metadata": {},
   "outputs": [],
   "source": [
    "Brand_Names = []\n",
    "Product_Names = []\n",
    "Product_Prices = []\n",
    "Product_URLs = []\n",
    "Image_URLs = []\n",
    "\n",
    "All_Item_Info = bg.find_all(class_='productMainLink')  # For Brand, Name, Price, Product URl\n",
    "Img_URL_Block = bg.find_all(class_='lister__item__image productView') # For Image URL\n",
    "\n",
    "for i in range(0,len(All_Item_Info)):\n",
    "    # 1.Brand\n",
    "    b = All_Item_Info[i].find(class_='lister__item__title' ).text\n",
    "    Brand_Names.append(b)\n",
    "    \n",
    "    # 2.Name\n",
    "    n = All_Item_Info[i].find(class_='lister__item__details' ).text\n",
    "    Product_Names.append(n)\n",
    "    \n",
    "    # 3.Price\n",
    "    p = All_Item_Info[i].find(class_='lister__item__price-full' ).text\n",
    "    Product_Prices.append(p)\n",
    "    \n",
    "    # 4.Product URL\n",
    "    # Extracting the Partial Product URL Available in it.\n",
    "    Partial_Product_URL = All_Item_Info[i]['href']\n",
    "    #print(i, \"  Partial Product URL-> \",Partial_Product_URL)\n",
    "    # Now forming the complete URL of the Product\n",
    "    Complete_Product_URL = 'https://www.matchesfashion.com'+Partial_Product_URL\n",
    "    #print(i, \"  Complete_Product_URL-> \",Complete_Product_URL)\n",
    "    p_url = Complete_Product_URL\n",
    "    Product_URLs.append(p_url)\n",
    "    \n",
    "    # 5.Image URL\n",
    "    # Extracting the Partial Image URL Available in it.\n",
    "    Partial_Image_URL = Img_URL_Block[i].find('img').get('data-original')\n",
    "    #print(\"Partial Image URL-> \",Partial_Image_URL)\n",
    "    # Complete Image URL\n",
    "    Complete_Image_URL = 'https:'+Partial_Image_URL\n",
    "    #print(\"Complete Image URL-> \",Complete_Image_URL)\n",
    "    i_url = Complete_Image_URL\n",
    "    Image_URLs.append(i_url)"
   ]
  },
  {
   "cell_type": "code",
   "execution_count": 17,
   "metadata": {},
   "outputs": [
    {
     "name": "stdout",
     "output_type": "stream",
     "text": [
      "Elements in Brand Names list:     240\n",
      "Elements in Product Names list:   240\n",
      "Elements in Product Prices list:  240\n",
      "Elements in Product URLs list:    240\n",
      "Elements in Image URLs list:      240\n"
     ]
    }
   ],
   "source": [
    "# Checking the lengths of all Lists\n",
    "print(\"Elements in Brand Names list:    \", len(Brand_Names))\n",
    "print(\"Elements in Product Names list:  \", len(Product_Names))\n",
    "print(\"Elements in Product Prices list: \", len(Product_Prices))\n",
    "print(\"Elements in Product URLs list:   \", len(Product_URLs))\n",
    "print(\"Elements in Image URLs list:     \", len(Image_URLs))"
   ]
  },
  {
   "cell_type": "code",
   "execution_count": 18,
   "metadata": {},
   "outputs": [],
   "source": [
    "#print(\"Brand Names-> \"   , Brand_Names)\n",
    "#print(\"\\n\\nProduct Names-> \" , Product_Names)\n",
    "#print(\"\\n\\nProduct Prices-> \", Product_Prices)\n",
    "#print(\"\\n\\nProducts URLs-> \" , Prouct_URLs)\n",
    "#print(\"\\n\\nImage URLs-> \"    , Image_URLs)\n",
    "\n",
    "import pandas as pd\n",
    "\n",
    "info_dict = {\n",
    "             \"Brand Names \"  : Brand_Names,\n",
    "             \"Product Names\" : Product_Names,\n",
    "             \"Product Prices\": Product_Prices,\n",
    "             \"Product URLs\"  : Product_URLs,\n",
    "             \"Image URLs\"    : Image_URLs\n",
    "            }\n",
    "\n",
    "Info_Data_Frame = pd.DataFrame(info_dict)\n"
   ]
  },
  {
   "cell_type": "code",
   "execution_count": 19,
   "metadata": {},
   "outputs": [
    {
     "data": {
      "text/html": [
       "<div>\n",
       "<style scoped>\n",
       "    .dataframe tbody tr th:only-of-type {\n",
       "        vertical-align: middle;\n",
       "    }\n",
       "\n",
       "    .dataframe tbody tr th {\n",
       "        vertical-align: top;\n",
       "    }\n",
       "\n",
       "    .dataframe thead th {\n",
       "        text-align: right;\n",
       "    }\n",
       "</style>\n",
       "<table border=\"1\" class=\"dataframe\">\n",
       "  <thead>\n",
       "    <tr style=\"text-align: right;\">\n",
       "      <th></th>\n",
       "      <th>Brand Names</th>\n",
       "      <th>Product Names</th>\n",
       "      <th>Product Prices</th>\n",
       "      <th>Product URLs</th>\n",
       "      <th>Image URLs</th>\n",
       "    </tr>\n",
       "  </thead>\n",
       "  <tbody>\n",
       "    <tr>\n",
       "      <th>0</th>\n",
       "      <td>Valentino Garavani</td>\n",
       "      <td>Rockrunner Plus camouflage-print mesh trainers</td>\n",
       "      <td>€650</td>\n",
       "      <td>https://www.matchesfashion.com/intl/products/V...</td>\n",
       "      <td>https://assetsprx.matchesfashion.com/img/produ...</td>\n",
       "    </tr>\n",
       "    <tr>\n",
       "      <th>1</th>\n",
       "      <td>Valentino Garavani</td>\n",
       "      <td>Afterdusk mesh and leather trainers</td>\n",
       "      <td>€650</td>\n",
       "      <td>https://www.matchesfashion.com/intl/products/V...</td>\n",
       "      <td>https://assetsprx.matchesfashion.com/img/produ...</td>\n",
       "    </tr>\n",
       "    <tr>\n",
       "      <th>2</th>\n",
       "      <td>Valentino Garavani</td>\n",
       "      <td>Climbers leather and mesh trainers</td>\n",
       "      <td>€650</td>\n",
       "      <td>https://www.matchesfashion.com/intl/products/V...</td>\n",
       "      <td>https://assetsprx.matchesfashion.com/img/produ...</td>\n",
       "    </tr>\n",
       "    <tr>\n",
       "      <th>3</th>\n",
       "      <td>Salomon</td>\n",
       "      <td>XT-Wings 2 Advanced mesh trainers</td>\n",
       "      <td>€130</td>\n",
       "      <td>https://www.matchesfashion.com/intl/products/S...</td>\n",
       "      <td>https://assetsprx.matchesfashion.com/img/produ...</td>\n",
       "    </tr>\n",
       "    <tr>\n",
       "      <th>4</th>\n",
       "      <td>1017 ALYX 9SM</td>\n",
       "      <td>Logo-debossed jersey and rubber boots</td>\n",
       "      <td>€755</td>\n",
       "      <td>https://www.matchesfashion.com/intl/products/1...</td>\n",
       "      <td>https://assetsprx.matchesfashion.com/img/produ...</td>\n",
       "    </tr>\n",
       "  </tbody>\n",
       "</table>\n",
       "</div>"
      ],
      "text/plain": [
       "         Brand Names                                    Product Names  \\\n",
       "0  Valentino Garavani  Rockrunner Plus camouflage-print mesh trainers   \n",
       "1  Valentino Garavani             Afterdusk mesh and leather trainers   \n",
       "2  Valentino Garavani              Climbers leather and mesh trainers   \n",
       "3             Salomon               XT-Wings 2 Advanced mesh trainers   \n",
       "4       1017 ALYX 9SM          Logo-debossed jersey and rubber boots    \n",
       "\n",
       "  Product Prices                                       Product URLs  \\\n",
       "0           €650  https://www.matchesfashion.com/intl/products/V...   \n",
       "1           €650  https://www.matchesfashion.com/intl/products/V...   \n",
       "2           €650  https://www.matchesfashion.com/intl/products/V...   \n",
       "3           €130  https://www.matchesfashion.com/intl/products/S...   \n",
       "4           €755  https://www.matchesfashion.com/intl/products/1...   \n",
       "\n",
       "                                          Image URLs  \n",
       "0  https://assetsprx.matchesfashion.com/img/produ...  \n",
       "1  https://assetsprx.matchesfashion.com/img/produ...  \n",
       "2  https://assetsprx.matchesfashion.com/img/produ...  \n",
       "3  https://assetsprx.matchesfashion.com/img/produ...  \n",
       "4  https://assetsprx.matchesfashion.com/img/produ...  "
      ]
     },
     "execution_count": 19,
     "metadata": {},
     "output_type": "execute_result"
    }
   ],
   "source": [
    "Info_Data_Frame.head()"
   ]
  },
  {
   "cell_type": "markdown",
   "metadata": {},
   "source": [
    "<!--Empty Space for separating topics-->\n"
   ]
  },
  {
   "cell_type": "markdown",
   "metadata": {},
   "source": [
    "<!--Empty Space for separating topics-->\n"
   ]
  },
  {
   "cell_type": "markdown",
   "metadata": {},
   "source": [
    "### Now we generate/take all web pages URLs of that site one by one"
   ]
  },
  {
   "cell_type": "code",
   "execution_count": 20,
   "metadata": {},
   "outputs": [
    {
     "data": {
      "text/plain": [
       "['https://www.matchesfashion.com/intl/mens/shop/shoes?page=1&noOfRecordsPerPage=240&sort=',\n",
       " 'https://www.matchesfashion.com/intl/mens/shop/shoes?page=2&noOfRecordsPerPage=240&sort=',\n",
       " 'https://www.matchesfashion.com/intl/mens/shop/shoes?page=3&noOfRecordsPerPage=240&sort=',\n",
       " 'https://www.matchesfashion.com/intl/mens/shop/shoes?page=4&noOfRecordsPerPage=240&sort=',\n",
       " 'https://www.matchesfashion.com/intl/mens/shop/shoes?page=5&noOfRecordsPerPage=240&sort=',\n",
       " 'https://www.matchesfashion.com/intl/mens/shop/shoes?page=6&noOfRecordsPerPage=240&sort=']"
      ]
     },
     "execution_count": 20,
     "metadata": {},
     "output_type": "execute_result"
    }
   ],
   "source": [
    "# Collecting all the web pages of that site which are requied for us.\n",
    "All_Pages_URLs = []\n",
    "for i in range(1,7):\n",
    "                  page_URL = \"https://www.matchesfashion.com/intl/mens/shop/shoes?page={}&noOfRecordsPerPage=240&sort=\".format(i)\n",
    "                  All_Pages_URLs.append(page_URL)\n",
    "\n",
    "All_Pages_URLs"
   ]
  },
  {
   "cell_type": "code",
   "execution_count": 21,
   "metadata": {},
   "outputs": [],
   "source": [
    "# Final Lists which contians all the relevant information of all pages from website.\n",
    "Final_Brand_Names = [] \n",
    "Final_Product_Names = []\n",
    "Final_Product_Prices = []\n",
    "Final_Product_URLs = []\n",
    "Final_Image_URLs = []"
   ]
  },
  {
   "cell_type": "markdown",
   "metadata": {},
   "source": [
    "#### As we know that the website not allow the web scrapping so we need to do the scrapping process slow i.e. not automate the whole process because if the whole process is automated then website will block us from accessing their website."
   ]
  },
  {
   "cell_type": "markdown",
   "metadata": {},
   "source": [
    "#### So for slow down the process we first create a function which scrape the whole required data from a page.\n",
    "<br>\n",
    "\n",
    "#### After creating this function we pass all the 6 urls of pages one by one to slow down the scrapping process means making fool of their website scrpping blockers program."
   ]
  },
  {
   "cell_type": "code",
   "execution_count": 22,
   "metadata": {},
   "outputs": [],
   "source": [
    "# Function which scrape all the required data.\n",
    "\n",
    "def info_scrapper(page_url):\n",
    "    browser = webdriver.Chrome()\n",
    "    browser.get(page_url)\n",
    "    html=browser.page_source\n",
    "    bg=BeautifulSoup(html,'lxml')\n",
    "    \n",
    "    All_Item_Info = bg.find_all(class_='productMainLink')  # For Brand, Name, Price, Product URl\n",
    "    Img_URL_Block = bg.find_all(class_='lister__item__image productView') # For Image URL\n",
    "    \n",
    "    print(\" Length of All_Item_Info : \",len(All_Item_Info))\n",
    "    print(\" Length of Img_URL_Block : \",len(Img_URL_Block))\n",
    "    \n",
    "    for i in range(0,len(All_Item_Info)):\n",
    "        # 1.Brand\n",
    "        b = All_Item_Info[i].find(class_='lister__item__title' ).text\n",
    "        Final_Brand_Names.append(b)\n",
    "        \n",
    "        # 2.Name\n",
    "        n = All_Item_Info[i].find(class_='lister__item__details' ).text\n",
    "        Final_Product_Names.append(n)\n",
    "        \n",
    "        # 3.Price\n",
    "        p = All_Item_Info[i].find(class_='lister__item__price-full' ).text\n",
    "        Final_Product_Prices.append(p)\n",
    "        \n",
    "        # 4.Product URL\n",
    "        # Extracting the Partial Product URL Available in it.\n",
    "        Partial_Product_URL = All_Item_Info[i]['href']\n",
    "        #print(i, \"  Partial Product URL-> \",Partial_Product_URL)\n",
    "        # Now forming the complete URL of the Product\n",
    "        Complete_Product_URL = 'https://www.matchesfashion.com'+Partial_Product_URL\n",
    "        #print(i, \"  Complete_Product_URL-> \",Complete_Product_URL)\n",
    "        p_url = Complete_Product_URL\n",
    "        Final_Product_URLs.append(p_url)\n",
    "    \n",
    "        # 5.Image URL\n",
    "        # Extracting the Partial Image URL Available in it.\n",
    "        Partial_Image_URL = Img_URL_Block[i].find('img').get('data-original')\n",
    "        #print(\"Partial Image URL-> \",Partial_Image_URL)\n",
    "        # Complete Image URL\n",
    "        Complete_Image_URL = 'https:'+Partial_Image_URL\n",
    "        #print(\"Complete Image URL-> \",Complete_Image_URL)\n",
    "        i_url = Complete_Image_URL\n",
    "        Final_Image_URLs.append(i_url)\n",
    "    \n",
    "    "
   ]
  },
  {
   "cell_type": "code",
   "execution_count": 23,
   "metadata": {},
   "outputs": [
    {
     "name": "stdout",
     "output_type": "stream",
     "text": [
      " Length of All_Item_Info :  240\n",
      " Length of Img_URL_Block :  240\n",
      "1st page successfully scrapped\n"
     ]
    }
   ],
   "source": [
    "# Scrapping 1st Page\n",
    "page_url = All_Pages_URLs[0]\n",
    "info_scrapper(page_url)\n",
    "print(\"1st page successfully scrapped\")"
   ]
  },
  {
   "cell_type": "markdown",
   "metadata": {},
   "source": [
    "## Please first close the above Crome Window first, then run the next code cell."
   ]
  },
  {
   "cell_type": "code",
   "execution_count": 24,
   "metadata": {},
   "outputs": [
    {
     "name": "stdout",
     "output_type": "stream",
     "text": [
      " Length of All_Item_Info :  240\n",
      " Length of Img_URL_Block :  240\n",
      "2nd page successfully scrapped\n"
     ]
    }
   ],
   "source": [
    "# Scrapping 2md Page\n",
    "page_url = All_Pages_URLs[1]\n",
    "info_scrapper(page_url)\n",
    "print(\"2nd page successfully scrapped\")"
   ]
  },
  {
   "cell_type": "markdown",
   "metadata": {},
   "source": [
    "## Please first close the above Crome Window first, then run the next code cell."
   ]
  },
  {
   "cell_type": "code",
   "execution_count": 26,
   "metadata": {},
   "outputs": [
    {
     "name": "stdout",
     "output_type": "stream",
     "text": [
      " Length of All_Item_Info :  240\n",
      " Length of Img_URL_Block :  240\n",
      "3rd page successfully scrapped\n"
     ]
    }
   ],
   "source": [
    "# Scrapping 3rd Page\n",
    "page_url = All_Pages_URLs[2]\n",
    "info_scrapper(page_url)\n",
    "print(\"3rd page successfully scrapped\")"
   ]
  },
  {
   "cell_type": "markdown",
   "metadata": {},
   "source": [
    "## Please first close the above Crome Window first, then run the next code cell."
   ]
  },
  {
   "cell_type": "code",
   "execution_count": 27,
   "metadata": {},
   "outputs": [
    {
     "name": "stdout",
     "output_type": "stream",
     "text": [
      " Length of All_Item_Info :  240\n",
      " Length of Img_URL_Block :  240\n",
      "4th page successfully scrapped\n"
     ]
    }
   ],
   "source": [
    "# Scrapping 4th Page\n",
    "page_url = All_Pages_URLs[3]\n",
    "info_scrapper(page_url)\n",
    "print(\"4th page successfully scrapped\")"
   ]
  },
  {
   "cell_type": "markdown",
   "metadata": {},
   "source": [
    "## Please first close the above Crome Window first, then run the next code cell."
   ]
  },
  {
   "cell_type": "code",
   "execution_count": 28,
   "metadata": {},
   "outputs": [
    {
     "name": "stdout",
     "output_type": "stream",
     "text": [
      " Length of All_Item_Info :  240\n",
      " Length of Img_URL_Block :  240\n",
      "5th page successfully scrapped\n"
     ]
    }
   ],
   "source": [
    "# Scrapping 5th Page\n",
    "page_url = All_Pages_URLs[4]\n",
    "info_scrapper(page_url)\n",
    "print(\"5th page successfully scrapped\")"
   ]
  },
  {
   "cell_type": "markdown",
   "metadata": {},
   "source": [
    "## Please first close the above Crome Window first, then run the next code cell."
   ]
  },
  {
   "cell_type": "code",
   "execution_count": 29,
   "metadata": {},
   "outputs": [
    {
     "name": "stdout",
     "output_type": "stream",
     "text": [
      " Length of All_Item_Info :  236\n",
      " Length of Img_URL_Block :  236\n",
      "6th page successfully scrapped\n"
     ]
    }
   ],
   "source": [
    "# Scrapping 6th Page\n",
    "page_url = All_Pages_URLs[5]\n",
    "info_scrapper(page_url)\n",
    "print(\"6th page successfully scrapped\")"
   ]
  },
  {
   "cell_type": "markdown",
   "metadata": {},
   "source": [
    "## Please first close the above Crome Window first, then run the next code cell."
   ]
  },
  {
   "cell_type": "code",
   "execution_count": 30,
   "metadata": {},
   "outputs": [
    {
     "name": "stdout",
     "output_type": "stream",
     "text": [
      "Elements in Brand Names list:  1436\n",
      "Elements in Product Names list:  1436\n",
      "Elements in Product Prices list:  1436\n",
      "Elements in Product URLs list:  1436\n",
      "Elements in Image URLs list:  1436\n"
     ]
    }
   ],
   "source": [
    "# Checking the lengths of all Lists\n",
    "print(\"Elements in Brand Names list: \",len(Final_Brand_Names))\n",
    "print(\"Elements in Product Names list: \",len(Final_Product_Names))\n",
    "print(\"Elements in Product Prices list: \",len(Final_Product_Prices))\n",
    "print(\"Elements in Product URLs list: \",len(Final_Product_URLs))\n",
    "print(\"Elements in Image URLs list: \",len(Final_Image_URLs))"
   ]
  },
  {
   "cell_type": "code",
   "execution_count": 31,
   "metadata": {},
   "outputs": [],
   "source": [
    "# Creating a data frame which contians all the data.\n",
    "\n",
    "# Creating dictionary of data.\n",
    "Final_info_dict = {\n",
    "             \"Brand Names \"  : Final_Brand_Names,\n",
    "             \"Product Names\" : Final_Product_Names,\n",
    "             \"Product Prices\": Final_Product_Prices,\n",
    "             \"Product URLs\"  : Final_Product_URLs,\n",
    "             \"Image URLs\"    : Final_Image_URLs\n",
    "            }\n",
    "\n",
    "# Creating data frame of above dictionary.\n",
    "Final_Info_Data_Frame = pd.DataFrame(Final_info_dict)\n"
   ]
  },
  {
   "cell_type": "code",
   "execution_count": 32,
   "metadata": {},
   "outputs": [
    {
     "name": "stdout",
     "output_type": "stream",
     "text": [
      "(1436, 5)\n"
     ]
    },
    {
     "data": {
      "text/html": [
       "<div>\n",
       "<style scoped>\n",
       "    .dataframe tbody tr th:only-of-type {\n",
       "        vertical-align: middle;\n",
       "    }\n",
       "\n",
       "    .dataframe tbody tr th {\n",
       "        vertical-align: top;\n",
       "    }\n",
       "\n",
       "    .dataframe thead th {\n",
       "        text-align: right;\n",
       "    }\n",
       "</style>\n",
       "<table border=\"1\" class=\"dataframe\">\n",
       "  <thead>\n",
       "    <tr style=\"text-align: right;\">\n",
       "      <th></th>\n",
       "      <th>Brand Names</th>\n",
       "      <th>Product Names</th>\n",
       "      <th>Product Prices</th>\n",
       "      <th>Product URLs</th>\n",
       "      <th>Image URLs</th>\n",
       "    </tr>\n",
       "  </thead>\n",
       "  <tbody>\n",
       "    <tr>\n",
       "      <th>0</th>\n",
       "      <td>Valentino Garavani</td>\n",
       "      <td>Rockrunner Plus camouflage-print mesh trainers</td>\n",
       "      <td>€650</td>\n",
       "      <td>https://www.matchesfashion.com/intl/products/V...</td>\n",
       "      <td>https://assetsprx.matchesfashion.com/img/produ...</td>\n",
       "    </tr>\n",
       "    <tr>\n",
       "      <th>1</th>\n",
       "      <td>Valentino Garavani</td>\n",
       "      <td>Afterdusk mesh and leather trainers</td>\n",
       "      <td>€650</td>\n",
       "      <td>https://www.matchesfashion.com/intl/products/V...</td>\n",
       "      <td>https://assetsprx.matchesfashion.com/img/produ...</td>\n",
       "    </tr>\n",
       "    <tr>\n",
       "      <th>2</th>\n",
       "      <td>Valentino Garavani</td>\n",
       "      <td>Climbers leather and mesh trainers</td>\n",
       "      <td>€650</td>\n",
       "      <td>https://www.matchesfashion.com/intl/products/V...</td>\n",
       "      <td>https://assetsprx.matchesfashion.com/img/produ...</td>\n",
       "    </tr>\n",
       "    <tr>\n",
       "      <th>3</th>\n",
       "      <td>Salomon</td>\n",
       "      <td>XT-Wings 2 Advanced mesh trainers</td>\n",
       "      <td>€130</td>\n",
       "      <td>https://www.matchesfashion.com/intl/products/S...</td>\n",
       "      <td>https://assetsprx.matchesfashion.com/img/produ...</td>\n",
       "    </tr>\n",
       "    <tr>\n",
       "      <th>4</th>\n",
       "      <td>1017 ALYX 9SM</td>\n",
       "      <td>Logo-debossed jersey and rubber boots</td>\n",
       "      <td>€755</td>\n",
       "      <td>https://www.matchesfashion.com/intl/products/1...</td>\n",
       "      <td>https://assetsprx.matchesfashion.com/img/produ...</td>\n",
       "    </tr>\n",
       "  </tbody>\n",
       "</table>\n",
       "</div>"
      ],
      "text/plain": [
       "         Brand Names                                    Product Names  \\\n",
       "0  Valentino Garavani  Rockrunner Plus camouflage-print mesh trainers   \n",
       "1  Valentino Garavani             Afterdusk mesh and leather trainers   \n",
       "2  Valentino Garavani              Climbers leather and mesh trainers   \n",
       "3             Salomon               XT-Wings 2 Advanced mesh trainers   \n",
       "4       1017 ALYX 9SM          Logo-debossed jersey and rubber boots    \n",
       "\n",
       "  Product Prices                                       Product URLs  \\\n",
       "0           €650  https://www.matchesfashion.com/intl/products/V...   \n",
       "1           €650  https://www.matchesfashion.com/intl/products/V...   \n",
       "2           €650  https://www.matchesfashion.com/intl/products/V...   \n",
       "3           €130  https://www.matchesfashion.com/intl/products/S...   \n",
       "4           €755  https://www.matchesfashion.com/intl/products/1...   \n",
       "\n",
       "                                          Image URLs  \n",
       "0  https://assetsprx.matchesfashion.com/img/produ...  \n",
       "1  https://assetsprx.matchesfashion.com/img/produ...  \n",
       "2  https://assetsprx.matchesfashion.com/img/produ...  \n",
       "3  https://assetsprx.matchesfashion.com/img/produ...  \n",
       "4  https://assetsprx.matchesfashion.com/img/produ...  "
      ]
     },
     "execution_count": 32,
     "metadata": {},
     "output_type": "execute_result"
    }
   ],
   "source": [
    "print(\"Rows & Columns in the above data frame are \",Final_Info_Data_Frame.shape)\n",
    "\n",
    "print(\"Top 5 Data of the data set are \")\n",
    "Final_Info_Data_Frame.head()"
   ]
  },
  {
   "cell_type": "code",
   "execution_count": 33,
   "metadata": {},
   "outputs": [],
   "source": [
    "# Now saving the data frame into a CSV file.\n",
    "Final_Info_Data_Frame.to_csv(r'MatchesFashion_Data.csv', index = False)"
   ]
  },
  {
   "cell_type": "markdown",
   "metadata": {},
   "source": [
    "### Now our is completed successfully as we scrape all the data of the matchesfashion.com of the shoes section"
   ]
  },
  {
   "cell_type": "code",
   "execution_count": null,
   "metadata": {},
   "outputs": [],
   "source": []
  }
 ],
 "metadata": {
  "kernelspec": {
   "display_name": "Python 3",
   "language": "python",
   "name": "python3"
  },
  "language_info": {
   "codemirror_mode": {
    "name": "ipython",
    "version": 3
   },
   "file_extension": ".py",
   "mimetype": "text/x-python",
   "name": "python",
   "nbconvert_exporter": "python",
   "pygments_lexer": "ipython3",
   "version": "3.6.7"
  }
 },
 "nbformat": 4,
 "nbformat_minor": 2
}
